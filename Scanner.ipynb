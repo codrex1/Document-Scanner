{
 "cells": [
  {
   "cell_type": "code",
   "execution_count": 12,
   "metadata": {},
   "outputs": [],
   "source": [
    "import cv2\n",
    "import numpy as np\n",
    "import pytesseract\n",
    "import imutils\n",
    "import warnings\n",
    "from helper import conversions\n",
    "warnings.filterwarnings(action='ignore')"
   ]
  },
  {
   "cell_type": "code",
   "execution_count": 2,
   "metadata": {},
   "outputs": [],
   "source": [
    "def preprocess_input(img,contrast = True):\n",
    "    img = cv2.cvtColor(img,cv2.COLOR_BGR2GRAY)\n",
    "    filtered = cv2.adaptiveThreshold(img.astype(np.uint8), 255, cv2.ADAPTIVE_THRESH_MEAN_C, cv2.THRESH_BINARY, 9, 41)\n",
    "    kernel = np.ones((1, 1), np.uint8)\n",
    "    opening = cv2.morphologyEx(filtered, cv2.MORPH_OPEN, kernel)\n",
    "    closing = cv2.morphologyEx(opening, cv2.MORPH_CLOSE, kernel)\n",
    "    or_image = cv2.bitwise_or(img, closing)\n",
    "    #Adding contrast to the image for better clarity\n",
    "    if contrast:\n",
    "        kernel = np.array([[-1,-1,-1], [-1,9,-1], [-1,-1,-1]])\n",
    "        or_image = cv2.filter2D(or_image, -1, kernel)\n",
    "    return or_image"
   ]
  },
  {
   "cell_type": "code",
   "execution_count": 3,
   "metadata": {},
   "outputs": [],
   "source": [
    "def order_points(pts):\n",
    "        rect = np.zeros((4, 2), dtype = \"float32\")\n",
    "        s = pts.sum(axis = 1)\n",
    "        rect[0] = pts[np.argmin(s)]\n",
    "        rect[2] = pts[np.argmax(s)]\n",
    "        diff = np.diff(pts, axis = 1)\n",
    "        rect[1] = pts[np.argmin(diff)]\n",
    "        rect[3] = pts[np.argmax(diff)]\n",
    "        return rect"
   ]
  },
  {
   "cell_type": "code",
   "execution_count": 4,
   "metadata": {},
   "outputs": [],
   "source": [
    "def four_point_transform(image, pts):\n",
    "        rect = order_points(pts)\n",
    "        (tl, tr, br, bl) = rect\n",
    "        widthA = np.sqrt(((br[0] - bl[0]) ** 2) + ((br[1] - bl[1]) ** 2))\n",
    "        widthB = np.sqrt(((tr[0] - tl[0]) ** 2) + ((tr[1] - tl[1]) ** 2))\n",
    "        maxWidth = max(int(widthA), int(widthB))\n",
    "        heightA = np.sqrt(((tr[0] - br[0]) ** 2) + ((tr[1] - br[1]) ** 2))\n",
    "        heightB = np.sqrt(((tl[0] - bl[0]) ** 2) + ((tl[1] - bl[1]) ** 2))\n",
    "        maxHeight = max(int(heightA), int(heightB))\n",
    "        dst = np.array([\n",
    "            [0, 0],\n",
    "            [maxWidth - 1, 0],\n",
    "            [maxWidth - 1, maxHeight - 1],\n",
    "            [0, maxHeight - 1]], dtype = \"float32\")\n",
    "        M = cv2.getPerspectiveTransform(rect, dst) #This i just getting the matrix perspective for transformation \n",
    "        warped = cv2.warpPerspective(image, M, (maxWidth, maxHeight)) #This is just a geometric transformation done on the image\n",
    "        return warped"
   ]
  },
  {
   "cell_type": "code",
   "execution_count": 5,
   "metadata": {},
   "outputs": [],
   "source": [
    "def get(img = None,vedio = False,path = 'Screenshot-6-12.png'):\n",
    "    \n",
    "    frame,image = None,None\n",
    "    if vedio:\n",
    "        frame,image = img,img\n",
    "    else:\n",
    "        frame = cv2.imread(path)    \n",
    "        image = frame.copy()\n",
    "\n",
    "    #if ROI:\n",
    "       # x,y,w,h = cv2.selectROI(image)\n",
    "       # image = image[x:x+w,y:y+h] \n",
    "\n",
    "    image = cv2.cvtColor(frame,cv2.COLOR_BGR2GRAY)\n",
    "    edged = cv2.Canny(image, 50, 100)\n",
    "    cnts = cv2.findContours(edged, cv2.RETR_LIST, cv2.CHAIN_APPROX_SIMPLE)\n",
    "    cnts = imutils.grab_contours(cnts)\n",
    "    contours = sorted(cnts , key = cv2.contourArea, reverse = True)\n",
    "    contours = contours[0]\n",
    "\n",
    "    #checking if the contour is a rectangle    \n",
    "    screenCnt = None\n",
    "    perimeter = cv2.arcLength(contours, True)\n",
    "    approx = cv2.approxPolyDP(contours, 0.02 * perimeter, True)\n",
    "    if len(approx) == 4:\n",
    "                 screenCnt = approx\n",
    "\n",
    "    #filtering on the basis of contour area        \n",
    "    if cv2.contourArea(contours)>=1000:\n",
    "            frame = cv2.drawContours(frame,[screenCnt],-1,[0,255,0],2)\n",
    "\n",
    "    image = cv2.threshold(image,127,255,cv2.THRESH_BINARY)[1]\n",
    "    image2 = preprocess_input(frame)\n",
    "\n",
    "    image = cv2.erode(image,kernel = np.ones((2,2)),iterations = 2)\n",
    "    image = cv2.dilate(image,kernel =  np.ones((2,2)),iterations = 2)\n",
    "    image = cv2.GaussianBlur(image,(5,5),0)\n",
    "    return frame,image2"
   ]
  },
  {
   "cell_type": "code",
   "execution_count": 15,
   "metadata": {},
   "outputs": [],
   "source": [
    "def runApp(vedio = False,Text = False,Document = False):\n",
    "    \n",
    "    if vedio:\n",
    "        cnt = 0\n",
    "        cap  = cv2.VideoCapture(0)\n",
    "        while True:\n",
    "            ret,frame = cap.read()\n",
    "            cv2.circle(frame,(200,300),2,[255,0,0],-1)\n",
    "            cv2.circle(frame,(400,300),2,[255,0,0],-1)\n",
    "            cv2.circle(frame,(400,50),2,[255,0,0],-1)\n",
    "            cv2.circle(frame,(200,50),2,[255,0,0],-1)\n",
    "            pts =  np.array([[200,300],[400,300],[400,50],[200,50]])\n",
    "            wrapped = four_point_transform(frame,pts)\n",
    "            filtered = get(wrapped,vedio = True)[1]\n",
    "            cv2.imshow('F',frame)\n",
    "            cv2.imshow('waapped',wrapped)\n",
    "            cv2.imshow('filtered',filtered)\n",
    "            \n",
    "            if cv2.waitKey(1)& 0xFF == ord('s'): #take a screenshot if 's' is pressed\n",
    "                cv2.imwrite('text'+str(cnt)+'.png',filtered) \n",
    "                cnt = cnt + 1\n",
    "                break\n",
    "            \n",
    "            k = cv2.waitKey(30) & 0xff\n",
    "            if k == 27:\n",
    "                break\n",
    "\n",
    "        cap.release()\n",
    "        cv2.destroyAllWindows()\n",
    "        \n",
    "    else :\n",
    "            frame = get()[1]\n",
    "            text = pytesseract.image_to_string(frame)\n",
    "            print(text)\n",
    "            conv = conversion(text)\n",
    "            conv.createPDF('new')\n",
    "            cv2.imshow('frame',frame)\n",
    "            cv2.imwrite('filtered.jpg',frame)\n",
    "            cv2.waitKey(0)\n",
    "            cv2.destroyAllWindows()"
   ]
  },
  {
   "cell_type": "code",
   "execution_count": 16,
   "metadata": {},
   "outputs": [
    {
     "name": "stdout",
     "output_type": "stream",
     "text": [
      "Berqhotel\n",
      "Grosse Scheidegg\n",
      "3818 Grindelvald\n",
      "Feni lie R. Miler\n",
      "\n",
      " \n",
      "\n",
      "Rech.Nr. 4572 30, 07, 2007/ 13:29: 17\n",
      "Bar Tisch 7/01\n",
      "exLatte Nacchiato a 4.50 CHF 9.00\n",
      "IxGlokt a 5.00 CHF 5.00\n",
      "IxSchweingchnitzel a 22.00 CHF 22.00\n",
      "Inthasspatz 14 a 18.50 CHF 18,50\n",
      "\n",
      "Total : CHF 54,50\n",
      "\n",
      "Incl. 7.6% HwSt 54.50 CHF: 3.85\n",
      "\n",
      " \n",
      "\n",
      "Entsoricht in Euro 36.33 EUR\n",
      "Es bediente Sie: Ursula\n",
      "\n",
      "HwSt Ne.: 930 254\n",
      "Tel. + 033 853 87 16\n",
      "Fax. + 033 853 67 19\n",
      "E-wail: grossescheideggibluewin, ch\n"
     ]
    }
   ],
   "source": [
    "runApp()"
   ]
  },
  {
   "cell_type": "code",
   "execution_count": null,
   "metadata": {},
   "outputs": [],
   "source": []
  }
 ],
 "metadata": {
  "kernelspec": {
   "display_name": "Python 3",
   "language": "python",
   "name": "python3"
  },
  "language_info": {
   "codemirror_mode": {
    "name": "ipython",
    "version": 3
   },
   "file_extension": ".py",
   "mimetype": "text/x-python",
   "name": "python",
   "nbconvert_exporter": "python",
   "pygments_lexer": "ipython3",
   "version": "3.7.1"
  }
 },
 "nbformat": 4,
 "nbformat_minor": 2
}
