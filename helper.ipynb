{
 "cells": [
  {
   "cell_type": "code",
   "execution_count": 1,
   "metadata": {},
   "outputs": [],
   "source": [
    "import numpy as np\n",
    "import cv2\n",
    "from fpdf import FPDF \n",
    "from docx import Document"
   ]
  },
  {
   "cell_type": "code",
   "execution_count": 2,
   "metadata": {},
   "outputs": [],
   "source": [
    "class Transformations:\n",
    "    \n",
    "    def __init__(self,centres,height,width,img):\n",
    "        self.centre = centres\n",
    "        self.h,self.w = height,width\n",
    "        self.image = img\n",
    "    \n",
    "    def rotate(self,deg):\n",
    "        matrix = cv2.getRotationMatrix2D(self.centre,angle = deg,scale = 1,flags=cv2.INTER_CUBIC,)\n",
    "        rotated = cv2.warpAffine(self.image,matrix,(self.w,self.h))\n",
    "        return rotated\n",
    "        \n",
    "    def translate(self,Dx,Dy):\n",
    "        matrix = np.float32([\n",
    "            [1,0,Dx],[0,1,Dy]\n",
    "        ])  \n",
    "        translated = cv2.warpAffine(self.image,matrix,(self.w,self.h))\n",
    "        return translated\n",
    "    \n",
    "    def affline(self):\n",
    "        pts1 = np.float32([[50,50],[200,50],[50,200]])\n",
    "        pts2 = np.float32([[10,100],[200,50],[100,250]])\n",
    "        M = cv2.getAffineTransform(pts1,pts2)\n",
    "        dst = cv2.warpAffine(self.image,M,(self.w,self.h))\n",
    "        return dst                  \n",
    "    \n",
    "    def skew_correction(self,deg):\n",
    "        gray = cv2.cvtColor(self.image, cv2.COLOR_BGR2GRAY)\n",
    "        gray = cv2.bitwise_not(gray)\n",
    "        thresh = cv2.threshold(gray, 0, 255,\n",
    "        cv2.THRESH_BINARY | cv2.THRESH_OTSU)[1]\n",
    "        coords = np.column_stack(np.where(thresh > 0))\n",
    "        angle = cv2.minAreaRect(coords)[-1]\n",
    "        if angle < -45:\n",
    "            angle = -(90 + angle)\n",
    "        else:\n",
    "            angle = -angle\n",
    "        (h, w) = self.image.shape[:2]\n",
    "        center = (w // 2, h // 2)\n",
    "        M = cv2.getRotationMatrix2D(center, angle, 1.0)\n",
    "        rotated = cv2.warpAffine(self.image, M, (w, h),\n",
    "            flags=cv2.INTER_CUBIC, borderMode=cv2.BORDER_REPLICATE)    \n",
    "        return rotated"
   ]
  },
  {
   "cell_type": "code",
   "execution_count": 2,
   "metadata": {},
   "outputs": [],
   "source": [
    "class conversion():\n",
    "    \n",
    "    def __init__(self,text):\n",
    "        self.doc = text\n",
    "     \n",
    "        \n",
    "    def createPDF(self,name):\n",
    "        try:\n",
    "            if len(self.doc)>0:\n",
    "                pdf = FPDF() \n",
    "                pdf.add_page() \n",
    "                pdf.set_font(\"Arial\", size = 15) \n",
    "                pdf.cell(200, 10, txt = self.doc,  \n",
    "                         ln = 1, align = 'C') \n",
    "                pdf.output(name +\".pdf\") \n",
    "        except:\n",
    "            pass\n",
    "        \n",
    "        \n",
    "    def createDocx(self,name,title):\n",
    "        document = Document()\n",
    "        document.add_heading(title,0)\n",
    "        p = document.add_paragraph(self.doc)\n",
    "        document.add_page_break()\n",
    "        document.save(title + '.docx')"
   ]
  },
  {
   "cell_type": "code",
   "execution_count": null,
   "metadata": {},
   "outputs": [],
   "source": []
  }
 ],
 "metadata": {
  "kernelspec": {
   "display_name": "Python 3",
   "language": "python",
   "name": "python3"
  },
  "language_info": {
   "codemirror_mode": {
    "name": "ipython",
    "version": 3
   },
   "file_extension": ".py",
   "mimetype": "text/x-python",
   "name": "python",
   "nbconvert_exporter": "python",
   "pygments_lexer": "ipython3",
   "version": "3.7.1"
  }
 },
 "nbformat": 4,
 "nbformat_minor": 2
}
